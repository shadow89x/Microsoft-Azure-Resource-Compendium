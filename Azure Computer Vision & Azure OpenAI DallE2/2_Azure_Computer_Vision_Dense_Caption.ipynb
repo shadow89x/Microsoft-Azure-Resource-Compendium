{
 "cells": [
  {
   "attachments": {},
   "cell_type": "markdown",
   "metadata": {},
   "source": [
    "# Azure Computer Vision Dense Caption"
   ]
  },
  {
   "attachments": {},
   "cell_type": "markdown",
   "metadata": {},
   "source": [
    "### The Azure Computer Vision Dense Caption feature is capable of providing users with detailed object detection within an image's content. Subsequently, we can employ OpenAI to condense these results."
   ]
  },
  {
   "attachments": {},
   "cell_type": "markdown",
   "metadata": {},
   "source": [
    "# Packages and Credentials"
   ]
  },
  {
   "cell_type": "code",
   "execution_count": 6,
   "metadata": {},
   "outputs": [],
   "source": [
    "import requests\n",
    "import json\n",
    "from PIL import Image\n",
    "from openai import cli\n",
    "import matplotlib.pyplot as plt\n",
    "import requests\n",
    "import os\n",
    "import azure.ai.vision as visionsdk\n",
    "import openai\n",
    "import logging"
   ]
  },
  {
   "cell_type": "code",
   "execution_count": 16,
   "metadata": {},
   "outputs": [],
   "source": [
    "\n",
    "openai.api_type = 'azure'\n",
    "openai.api_base = os.environ.get('openai.api_base')\n",
    "openai.api_version = os.environ.get('openai.api_version')\n",
    "openai.api_key = os.environ.get('openai.api_key')\n",
    "vision_base= os.environ.get('cognitive_endpoint')\n",
    "vision_key= os.environ.get('cognitive_key')"
   ]
  },
  {
   "attachments": {},
   "cell_type": "markdown",
   "metadata": {},
   "source": [
    "# Original Image"
   ]
  },
  {
   "cell_type": "code",
   "execution_count": 3,
   "metadata": {},
   "outputs": [
    {
     "data": {
      "text/html": [
       "<img src=\"https://www.realmenrealstyle.com/wp-content/uploads/2015/02/How-The-Car-You-Drive-Impacts-Your-Image.jpg\"/>"
      ],
      "text/plain": [
       "<IPython.core.display.Image object>"
      ]
     },
     "execution_count": 3,
     "metadata": {},
     "output_type": "execute_result"
    }
   ],
   "source": [
    "from IPython.display import Image\n",
    "image_url = \"https://www.realmenrealstyle.com/wp-content/uploads/2015/02/How-The-Car-You-Drive-Impacts-Your-Image.jpg\"\n",
    "\n",
    "# Display the image\n",
    "Image(url=image_url)"
   ]
  },
  {
   "cell_type": "code",
   "execution_count": 4,
   "metadata": {},
   "outputs": [],
   "source": [
    "def generate_caption(image_url):\n",
    "    service_options = visionsdk.VisionServiceOptions(vision_base, vision_key)\n",
    "    vision_source = visionsdk.VisionSource(url=image_url)\n",
    "    image_analysis_options = visionsdk.ImageAnalysisOptions()\n",
    "    image_analysis_options.features = (\n",
    "        visionsdk.ImageAnalysisFeature.DENSE_CAPTIONS\n",
    "    )\n",
    "    image_analysis_options.language = 'en'\n",
    "    image_analyzer = visionsdk.ImageAnalyzer(\n",
    "        service_options, vision_source, image_analysis_options)\n",
    "    result = image_analyzer.analyze()\n",
    "    response = {}\n",
    "    response_json={}\n",
    "    if result.reason == visionsdk.ImageAnalysisResultReason.ANALYZED:\n",
    "        if result.caption is not None:\n",
    "            image_caption = result.caption.content\n",
    "        else:\n",
    "            image_caption = ''\n",
    "        result_details = visionsdk.ImageAnalysisResultDetails.from_result(\n",
    "            result)\n",
    "        response_json = json.loads(result_details.json_result)\n",
    "        response = openai.ChatCompletion.create(\n",
    "            engine=\"gpt-35-turbo\",\n",
    "            messages=[\n",
    "                {\"role\": \"system\", \"content\": \"you are the AI assistant who extract main products of data\"},\n",
    "                {\"role\": \"user\", \"content\": f\"can you give me what products are in this data? Just return the items having probability of more than 40 percent. {response_json} \"}\n",
    "            ])\n",
    "    else:\n",
    "        logging.info('Azure vision failed to generate dense caption of this image')\n",
    "    formatted_result = response['choices'][0]['message']['content']\n",
    "    return formatted_result, response_json"
   ]
  },
  {
   "cell_type": "code",
   "execution_count": 17,
   "metadata": {},
   "outputs": [
    {
     "name": "stdout",
     "output_type": "stream",
     "text": [
      "The following products are in the data with a probability of more than 40%:\n",
      "- A man in a suit and tie talking on a cell phone next to a car\n",
      "- A man in a white shirt and tie\n",
      "- A person wearing black pants\n",
      "- A person opening a car door\n",
      "- A man in a suit and tie talking on a cell phone next to a car\n",
      "- A close up of a car\n"
     ]
    }
   ],
   "source": [
    "image_url = \"https://www.realmenrealstyle.com/wp-content/uploads/2015/02/How-The-Car-You-Drive-Impacts-Your-Image.jpg\"\n",
    "text,caption=generate_caption(image_url)\n",
    "print(text)"
   ]
  }
 ],
 "metadata": {
  "kernelspec": {
   "display_name": "Python 3",
   "language": "python",
   "name": "python3"
  },
  "language_info": {
   "codemirror_mode": {
    "name": "ipython",
    "version": 3
   },
   "file_extension": ".py",
   "mimetype": "text/x-python",
   "name": "python",
   "nbconvert_exporter": "python",
   "pygments_lexer": "ipython3",
   "version": "3.10.10"
  },
  "orig_nbformat": 4
 },
 "nbformat": 4,
 "nbformat_minor": 2
}
